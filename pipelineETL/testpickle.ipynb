{
 "cells": [
  {
   "cell_type": "code",
   "execution_count": 10,
   "id": "a809d9c8",
   "metadata": {},
   "outputs": [
    {
     "name": "stdout",
     "output_type": "stream",
     "text": [
      "[DocumentError(id=0, error=TextAnalyticsError(code=InvalidArgument, message=An exception occurred while trying to extract named entity. Exception details: System.IndexOutOfRangeException: Index was outside the bounds of the array.\n",
      "   at Microsoft.MSRA.NER.Common.BaseNER.<>c__DisplayClass18_0.<HotFixChecks>b__1(ModelEntityResult y)\n",
      "   at System.Linq.Enumerable.Any[TSource](IEnumerable`1 source, Func`2 predicate)\n",
      "   at Microsoft.MSRA.NER.Common.BaseNER.HotFixChecks(ModelEntityResult entity, List`1 allEntities, Query query)\n",
      "   at Microsoft.MSRA.NER.Common.BaseNER.<>c__DisplayClass19_0.<PostProcess>b__0(ModelEntityResult er)\n",
      "   at System.Linq.Enumerable.WhereListIterator`1.ToList()\n",
      "   at Microsoft.MSRA.NER.Common.BaseNER.PostProcess(Query query, List`1 extractResults)\n",
      "   at Microsoft.MSRA.NER.Common.BaseNER.GetExtractResults(Query query)\n",
      "   at System.Linq.Enumerable.SelectListIterator`2.ToList()\n",
      "   at Microsoft.MSRA.NER.Common.BaseNER.Extract(Query query)\n",
      "   at Microsoft.CognitiveServices.TextAnalytics.Entities.Re]\n"
     ]
    }
   ],
   "source": [
    "import pickle\n",
    "import sqlite3\n",
    "\n",
    "test = pickle.load( open( \"save.p\", \"rb\" ))\n",
    "print(test)"
   ]
  },
  {
   "cell_type": "code",
   "execution_count": 2,
   "id": "919bc98f",
   "metadata": {},
   "outputs": [],
   "source": [
    "from azure.ai.textanalytics import TextAnalyticsClient\n",
    "from azure.core.credentials import AzureKeyCredential\n",
    "from dotenv import load_dotenv\n",
    "import os\n",
    "\n",
    "load_dotenv()\n",
    "\n",
    "cog_endpoint = os.getenv(\"COG_SERVICE_ENDPOINT\")\n",
    "cog_key = os.getenv(\"COG_SERVICE_KEY\")"
   ]
  },
  {
   "cell_type": "code",
   "execution_count": 12,
   "id": "8d9f1761",
   "metadata": {},
   "outputs": [],
   "source": [
    "def entities_recognition(summary):\n",
    "    \n",
    "\n",
    "    credential = AzureKeyCredential(cog_key)\n",
    "    \n",
    "    client = TextAnalyticsClient(endpoint=cog_endpoint, credential=credential)\n",
    "    \n",
    "\n",
    "    #summary = summary.replace(u':', u';')\n",
    "    \n",
    "    # on ne garde que les 1000 \n",
    "    doc = [{'id': 0, \"text\": summary}]\n",
    "    #doc = [\"Notre client startup dans le domaine de l'IA recherche aujourd'hui un ingénieur de recherche NLP Composée de 8 collaborateurs cette société développe depuis quelques années un assistant virtuel intelligent mêlant à la fois le machine learning et le deep learning et qui a pour but de faciliter l'organisation de travail Dans le cadre de son développement et de la commercialisation de son produit, elle souhaite aujourd'hui recruter un ingénieur de recherche dans le domaine du NLP pour ainsi renforcer l'équipe R&D.\"]\n",
    "    print(\"juste avant\")\n",
    "    print(\"doc\",doc)\n",
    "    \n",
    "    results = client.recognize_entities(documents=doc,language='fr')\n",
    "    \n",
    "\n",
    "    #except ValueError:\n",
    "    #print(\"erreur sur\", doc)\n",
    "    \n",
    "    print(\"sauvegarde pickle\")\n",
    "    pickle.dump(results, open( \"save.p\", \"wb\" ))\n",
    "\n",
    "    cat = [results[0].entities[i].category for i in range(0, len(results[0].entities))]\n",
    "    word = [results[0].entities[i].text for i in range(0, len(results[0].entities))]\n",
    "    \n",
    "    # normalement on récupère une liste de dictionnaire de clé 'id' et 'text' avec une liste d'entités\n",
    "    return cat, word"
   ]
  },
  {
   "cell_type": "code",
   "execution_count": 17,
   "id": "b26f8072",
   "metadata": {},
   "outputs": [
    {
     "name": "stdout",
     "output_type": "stream",
     "text": [
      "juste avant\n",
      "doc [{'id': 0, 'text': \"Au sein d'une équipe Tech composée de 2 développeurs frontend, votre objectif sera de participer à la refonte et l'évolution d'une application de restitution de données en méthodologie Agile.- Conception et développement de nouvelles fonctionnalités de A à Z (fonctionnalités de dataviz, données cartographiques.- Vous avez à minima 5 ans d'expérience en développement JavaScript avec Angular2+ et/ou React.- Sujets liés à la data combinés à du développement web- TR, RTT et 3 jours de télétravail par semaine  Profil recherché- Vous etes pret à monter en compétence sur React.- Veille technologique et proposition d'outils pour améliorer l'application- Vous êtes idéalement diplomé d'un Bac +5 dans l'informatique- Vous avez à coeur de réaliser un code de qualité\"}]\n",
      "sauvegarde pickle\n"
     ]
    },
    {
     "ename": "AttributeError",
     "evalue": "'DocumentError' object has no attribute 'entities'. The service was unable to process this document:\nDocument Id: 0\nError: InvalidArgument - An exception occurred while trying to extract named entity. Exception details: System.IndexOutOfRangeException: Index was outside the bounds of the array.\n   at Microsoft.MSRA.NER.Common.BaseNER.<>c__DisplayClass18_0.<HotFixChecks>b__1(ModelEntityResult y)\n   at System.Linq.Enumerable.Any[TSource](IEnumerable`1 source, Func`2 predicate)\n   at Microsoft.MSRA.NER.Common.BaseNER.HotFixChecks(ModelEntityResult entity, List`1 allEntities, Query query)\n   at Microsoft.MSRA.NER.Common.BaseNER.<>c__DisplayClass19_0.<PostProcess>b__0(ModelEntityResult er)\n   at System.Linq.Enumerable.WhereListIterator`1.ToList()\n   at Microsoft.MSRA.NER.Common.BaseNER.PostProcess(Query query, List`1 extractResults)\n   at Microsoft.MSRA.NER.Common.BaseNER.GetExtractResults(Query query)\n   at System.Linq.Enumerable.SelectListIterator`2.ToList()\n   at Microsoft.MSRA.NER.Common.BaseNER.Extract(Query query)\n   at Microsoft.CognitiveServices.TextAnalytics.Entities.Recognition.Utilities.ShortTextEntityRecognizer.ExtractEntities(String text)\n   at Microsoft.CognitiveServices.TextAnalytics.CommonCore.Metrics.OperationMetric.MeasureLatency[T](Func`1 operation)\n   at Microsoft.CognitiveServices.TextAnalytics.ModulesCommon.Utilities.BaseModule.MeasureOperation[T](RequestCorrelation requestCorrelation, String operationName, Func`1 action, IDictionary`2 metadata)\n   at Microsoft.CognitiveServices.TextAnalytics.Entities.Recognition.Utilities.ShortTextNamedEntityExtractor.ExtractEntities(String text, CultureInfo language, String documentId, RequestCorrelation requestCorrelation)\n   at Microsoft.CognitiveServices.TextAnalytics.Entities.Recognition.Utilities.NamedEntityExtractor.ExtractEntities(String text, CultureInfo language, String documentId, RequestCorrelation requestCorrelation, IndexType indexType)\n",
     "output_type": "error",
     "traceback": [
      "\u001b[0;31m---------------------------------------------------------------------------\u001b[0m",
      "\u001b[0;31mAttributeError\u001b[0m                            Traceback (most recent call last)",
      "Input \u001b[0;32mIn [17]\u001b[0m, in \u001b[0;36m<module>\u001b[0;34m\u001b[0m\n\u001b[0;32m----> 1\u001b[0m \u001b[43mentities_recognition\u001b[49m\u001b[43m(\u001b[49m\u001b[38;5;124;43m\"\u001b[39;49m\u001b[38;5;124;43mAu sein d\u001b[39;49m\u001b[38;5;124;43m'\u001b[39;49m\u001b[38;5;124;43mune équipe Tech composée de 2 développeurs frontend, votre objectif sera de participer à la refonte et l\u001b[39;49m\u001b[38;5;124;43m'\u001b[39;49m\u001b[38;5;124;43mévolution d\u001b[39;49m\u001b[38;5;124;43m'\u001b[39;49m\u001b[38;5;124;43mune application de restitution de données en méthodologie Agile.- Conception et développement de nouvelles fonctionnalités de A à Z (fonctionnalités de dataviz, données cartographiques.- Vous avez à minima 5 ans d\u001b[39;49m\u001b[38;5;124;43m'\u001b[39;49m\u001b[38;5;124;43mexpérience en développement JavaScript avec Angular2+ et/ou React.- Sujets liés à la data combinés à du développement web- TR, RTT et 3 jours de télétravail par semaine  Profil recherché- Vous etes pret à monter en compétence sur React.- Veille technologique et proposition d\u001b[39;49m\u001b[38;5;124;43m'\u001b[39;49m\u001b[38;5;124;43moutils pour améliorer l\u001b[39;49m\u001b[38;5;124;43m'\u001b[39;49m\u001b[38;5;124;43mapplication- Vous êtes idéalement diplomé d\u001b[39;49m\u001b[38;5;124;43m'\u001b[39;49m\u001b[38;5;124;43mun Bac +5 dans l\u001b[39;49m\u001b[38;5;124;43m'\u001b[39;49m\u001b[38;5;124;43minformatique- Vous avez à coeur de réaliser un code de qualité\u001b[39;49m\u001b[38;5;124;43m\"\u001b[39;49m\u001b[43m)\u001b[49m\n",
      "Input \u001b[0;32mIn [12]\u001b[0m, in \u001b[0;36mentities_recognition\u001b[0;34m(summary)\u001b[0m\n\u001b[1;32m     23\u001b[0m \u001b[38;5;28mprint\u001b[39m(\u001b[38;5;124m\"\u001b[39m\u001b[38;5;124msauvegarde pickle\u001b[39m\u001b[38;5;124m\"\u001b[39m)\n\u001b[1;32m     24\u001b[0m pickle\u001b[38;5;241m.\u001b[39mdump(results, \u001b[38;5;28mopen\u001b[39m( \u001b[38;5;124m\"\u001b[39m\u001b[38;5;124msave.p\u001b[39m\u001b[38;5;124m\"\u001b[39m, \u001b[38;5;124m\"\u001b[39m\u001b[38;5;124mwb\u001b[39m\u001b[38;5;124m\"\u001b[39m ))\n\u001b[0;32m---> 26\u001b[0m cat \u001b[38;5;241m=\u001b[39m [results[\u001b[38;5;241m0\u001b[39m]\u001b[38;5;241m.\u001b[39mentities[i]\u001b[38;5;241m.\u001b[39mcategory \u001b[38;5;28;01mfor\u001b[39;00m i \u001b[38;5;129;01min\u001b[39;00m \u001b[38;5;28mrange\u001b[39m(\u001b[38;5;241m0\u001b[39m, \u001b[38;5;28mlen\u001b[39m(\u001b[43mresults\u001b[49m\u001b[43m[\u001b[49m\u001b[38;5;241;43m0\u001b[39;49m\u001b[43m]\u001b[49m\u001b[38;5;241;43m.\u001b[39;49m\u001b[43mentities\u001b[49m))]\n\u001b[1;32m     27\u001b[0m word \u001b[38;5;241m=\u001b[39m [results[\u001b[38;5;241m0\u001b[39m]\u001b[38;5;241m.\u001b[39mentities[i]\u001b[38;5;241m.\u001b[39mtext \u001b[38;5;28;01mfor\u001b[39;00m i \u001b[38;5;129;01min\u001b[39;00m \u001b[38;5;28mrange\u001b[39m(\u001b[38;5;241m0\u001b[39m, \u001b[38;5;28mlen\u001b[39m(results[\u001b[38;5;241m0\u001b[39m]\u001b[38;5;241m.\u001b[39mentities))]\n\u001b[1;32m     29\u001b[0m \u001b[38;5;66;03m# normalement on récupère une liste de dictionnaire de clé 'id' et 'text' avec une liste d'entités\u001b[39;00m\n",
      "File \u001b[0;32m~/.local/share/virtualenvs/data-L2U63w8v/lib/python3.8/site-packages/azure/ai/textanalytics/_models.py:1190\u001b[0m, in \u001b[0;36mDocumentError.__getattr__\u001b[0;34m(self, attr)\u001b[0m\n\u001b[1;32m   1188\u001b[0m result_attrs \u001b[38;5;241m=\u001b[39m result_set\u001b[38;5;241m.\u001b[39mdifference(DocumentError()\u001b[38;5;241m.\u001b[39mkeys())\n\u001b[1;32m   1189\u001b[0m \u001b[38;5;28;01mif\u001b[39;00m attr \u001b[38;5;129;01min\u001b[39;00m result_attrs:\n\u001b[0;32m-> 1190\u001b[0m     \u001b[38;5;28;01mraise\u001b[39;00m \u001b[38;5;167;01mAttributeError\u001b[39;00m(\n\u001b[1;32m   1191\u001b[0m         \u001b[38;5;124m\"\u001b[39m\u001b[38;5;124m'\u001b[39m\u001b[38;5;124mDocumentError\u001b[39m\u001b[38;5;124m'\u001b[39m\u001b[38;5;124m object has no attribute \u001b[39m\u001b[38;5;124m'\u001b[39m\u001b[38;5;132;01m{}\u001b[39;00m\u001b[38;5;124m'\u001b[39m\u001b[38;5;124m. The service was unable to process this document:\u001b[39m\u001b[38;5;130;01m\\n\u001b[39;00m\u001b[38;5;124m\"\u001b[39m\n\u001b[1;32m   1192\u001b[0m         \u001b[38;5;124m\"\u001b[39m\u001b[38;5;124mDocument Id: \u001b[39m\u001b[38;5;132;01m{}\u001b[39;00m\u001b[38;5;130;01m\\n\u001b[39;00m\u001b[38;5;124mError: \u001b[39m\u001b[38;5;132;01m{}\u001b[39;00m\u001b[38;5;124m - \u001b[39m\u001b[38;5;132;01m{}\u001b[39;00m\u001b[38;5;130;01m\\n\u001b[39;00m\u001b[38;5;124m\"\u001b[39m\u001b[38;5;241m.\u001b[39mformat(\n\u001b[1;32m   1193\u001b[0m             attr, \u001b[38;5;28mself\u001b[39m\u001b[38;5;241m.\u001b[39mid, \u001b[38;5;28mself\u001b[39m\u001b[38;5;241m.\u001b[39merror\u001b[38;5;241m.\u001b[39mcode, \u001b[38;5;28mself\u001b[39m\u001b[38;5;241m.\u001b[39merror\u001b[38;5;241m.\u001b[39mmessage\n\u001b[1;32m   1194\u001b[0m         )\n\u001b[1;32m   1195\u001b[0m     )\n\u001b[1;32m   1196\u001b[0m \u001b[38;5;28;01mraise\u001b[39;00m \u001b[38;5;167;01mAttributeError\u001b[39;00m(\n\u001b[1;32m   1197\u001b[0m     \u001b[38;5;124m\"\u001b[39m\u001b[38;5;124m'\u001b[39m\u001b[38;5;124mDocumentError\u001b[39m\u001b[38;5;124m'\u001b[39m\u001b[38;5;124m object has no attribute \u001b[39m\u001b[38;5;124m'\u001b[39m\u001b[38;5;132;01m{}\u001b[39;00m\u001b[38;5;124m'\u001b[39m\u001b[38;5;124m\"\u001b[39m\u001b[38;5;241m.\u001b[39mformat(attr)\n\u001b[1;32m   1198\u001b[0m )\n",
      "\u001b[0;31mAttributeError\u001b[0m: 'DocumentError' object has no attribute 'entities'. The service was unable to process this document:\nDocument Id: 0\nError: InvalidArgument - An exception occurred while trying to extract named entity. Exception details: System.IndexOutOfRangeException: Index was outside the bounds of the array.\n   at Microsoft.MSRA.NER.Common.BaseNER.<>c__DisplayClass18_0.<HotFixChecks>b__1(ModelEntityResult y)\n   at System.Linq.Enumerable.Any[TSource](IEnumerable`1 source, Func`2 predicate)\n   at Microsoft.MSRA.NER.Common.BaseNER.HotFixChecks(ModelEntityResult entity, List`1 allEntities, Query query)\n   at Microsoft.MSRA.NER.Common.BaseNER.<>c__DisplayClass19_0.<PostProcess>b__0(ModelEntityResult er)\n   at System.Linq.Enumerable.WhereListIterator`1.ToList()\n   at Microsoft.MSRA.NER.Common.BaseNER.PostProcess(Query query, List`1 extractResults)\n   at Microsoft.MSRA.NER.Common.BaseNER.GetExtractResults(Query query)\n   at System.Linq.Enumerable.SelectListIterator`2.ToList()\n   at Microsoft.MSRA.NER.Common.BaseNER.Extract(Query query)\n   at Microsoft.CognitiveServices.TextAnalytics.Entities.Recognition.Utilities.ShortTextEntityRecognizer.ExtractEntities(String text)\n   at Microsoft.CognitiveServices.TextAnalytics.CommonCore.Metrics.OperationMetric.MeasureLatency[T](Func`1 operation)\n   at Microsoft.CognitiveServices.TextAnalytics.ModulesCommon.Utilities.BaseModule.MeasureOperation[T](RequestCorrelation requestCorrelation, String operationName, Func`1 action, IDictionary`2 metadata)\n   at Microsoft.CognitiveServices.TextAnalytics.Entities.Recognition.Utilities.ShortTextNamedEntityExtractor.ExtractEntities(String text, CultureInfo language, String documentId, RequestCorrelation requestCorrelation)\n   at Microsoft.CognitiveServices.TextAnalytics.Entities.Recognition.Utilities.NamedEntityExtractor.ExtractEntities(String text, CultureInfo language, String documentId, RequestCorrelation requestCorrelation, IndexType indexType)\n"
     ]
    }
   ],
   "source": [
    "entities_recognition(\"Au sein d'une équipe Tech composée de 2 développeurs frontend, votre objectif sera de participer à la refonte et l'évolution d'une application de restitution de données en méthodologie Agile.- Conception et développement de nouvelles fonctionnalités de A à Z (fonctionnalités de dataviz, données cartographiques.- Vous avez à minima 5 ans d'expérience en développement JavaScript avec Angular2+ et/ou React.- Sujets liés à la data combinés à du développement web- TR, RTT et 3 jours de télétravail par semaine  Profil recherché- Vous etes pret à monter en compétence sur React.- Veille technologique et proposition d'outils pour améliorer l'application- Vous êtes idéalement diplomé d'un Bac +5 dans l'informatique- Vous avez à coeur de réaliser un code de qualité\")"
   ]
  },
  {
   "cell_type": "code",
   "execution_count": 1,
   "id": "554d9c2c",
   "metadata": {},
   "outputs": [],
   "source": [
    "import spacy\n",
    "import string\n",
    "from spacy.lang.fr.stop_words import STOP_WORDS\n",
    "from heapq import nlargest\n",
    "from string import punctuation\n",
    "\n",
    "# https://www.numpyninja.com/post/text-summarization-through-use-of-spacy-library#:~:text=Steps%20to%20Text%20Summarization%3A&text=Now%20lets%20see%20how%20to,library%20%2C%20also%20import%20stop%20words.&text=Import%20punctuation%20marks%20from%20string,next%20line%20tag%20in%20it.&text=Store%20a%20text%20in%20variable,need%20to%20summarise%20the%20text.\n",
    "\n",
    "punctuation=punctuation+ '\\n'\n",
    "\n",
    "stopwords=list(STOP_WORDS)\n",
    "\n",
    "def summarize_from_description(text):\n",
    "    \n",
    "    \n",
    "    text = text.replace(u'\\xa0', u' ')\n",
    "    text = text.replace(u'&nbsp',u' ')\n",
    "    text = text.replace(u'&amp;',u'&')\n",
    "    #text = text.replace(u',',u' ')\n",
    "    text = text.replace(u'-',u'')\n",
    "    #text = text.replace(u';',u' ')\n",
    "    #text = text.replace(u'.', u' ')\n",
    "    #text = text.replace(u'...', u' ')\n",
    "    #text = text.replace(u'/', u'')\n",
    "    #text = text.replace(u':', u';')\n",
    "    text = text.replace(u'*', u'')\n",
    "    text = text.replace(u'\\n', u' ')\n",
    "    #text = text.replace(u'\\t', u' ')\n",
    "    #text = text.replace(u'    ', u' ')\n",
    "    #text = text.replace(u'  ', u' ')\n",
    "    # Il reste encore des doubles espaces en fin de lignes\n",
    "    #text = text.replace(u'  ', u' ')\n",
    "\n",
    "    nlp = spacy.load(\"fr_core_news_lg\")\n",
    "    #mots=[]\n",
    "   \n",
    "    doc = nlp(text)\n",
    "    #tokens=[token.text for token in doc]\n",
    "    word_frequencies={}\n",
    "\n",
    "    for word in doc:\n",
    "        if word.text.lower() not in stopwords:\n",
    "            \n",
    "            # Attention au traitement sur la ponctuation\n",
    "            \n",
    "            if word.text.lower() not in punctuation:\n",
    "                if word.text not in word_frequencies.keys():\n",
    "                    word_frequencies[word.text] = 1\n",
    "                else:\n",
    "                    word_frequencies[word.text] += 1\n",
    "\n",
    "    max_frequency=max(word_frequencies.values())\n",
    "\n",
    "\n",
    "    for word in word_frequencies.keys():\n",
    "        word_frequencies[word]=word_frequencies[word]/max_frequency\n",
    "\n",
    "    sentence_tokens= [sent for sent in doc.sents]\n",
    "\n",
    "    sentence_scores = {}\n",
    "    for sent in sentence_tokens:\n",
    "        for word in sent:\n",
    "            if word.text.lower() in word_frequencies.keys():\n",
    "                if sent not in sentence_scores.keys():                            \n",
    "                    sentence_scores[sent]=word_frequencies[word.text.lower()]\n",
    "                else:\n",
    "                    sentence_scores[sent]+=word_frequencies[word.text.lower()]\n",
    "\n",
    "    # 2 alertes sur 15 offres diminuer à 0.20 pour obtenir 1 alerte sur 15 offres\n",
    "    select_length=int(len(sentence_tokens)*0.25)\n",
    "\n",
    "    summary=nlargest(select_length, sentence_scores,key=sentence_scores.get)\n",
    "\n",
    "    final_summary=[word.text for word in summary]\n",
    "\n",
    "    summary=''.join(final_summary)\n",
    "\n",
    "    if len(summary) > 1000:\n",
    "        print(\"alert\")\n",
    "        print(len(summary))\n",
    "    return(summary)"
   ]
  },
  {
   "cell_type": "code",
   "execution_count": 8,
   "id": "bb065fd5",
   "metadata": {},
   "outputs": [
    {
     "data": {
      "text/plain": [
       "\"Pourquoi rejoindre cette entreprise :  Sujets liés à la data combinés à du développement web  Refonte totale d'une plateforme à venir  Formation prise en charge par l'entreprise pour vous faire monter en compétence sur React.JS  Vous avez à cœur de réaliser un code de qualité  Anglais : Un bon niveau est un plusJS  TR, RTT et 3 jours de télétravail par semaine  Profil recherché:pour améliorer l'application  Réalisation de tests  Typescript  JavaScript  AngularVous êtes idéalement diplômé d'un Bac +5 dans l'informatique  \""
      ]
     },
     "execution_count": 8,
     "metadata": {},
     "output_type": "execute_result"
    }
   ],
   "source": [
    "summarize_from_description(\"\"\"Descriptif du poste:\n",
    "\n",
    "Au sein d'une équipe Tech composée de 2 développeurs frontend, votre objectif sera de participer à la refonte et l'évolution d'une application de restitution de données en méthodologie Agile.\n",
    "Vos missions seront les suivantes :\n",
    "- Conception et développement de nouvelles fonctionnalités de A à Z (fonctionnalités de dataviz, données cartographiques.)\n",
    "- Evolution et modernisation d'applications existantes\n",
    "- Refonte de la plateforme d'Angular vers React.JS\n",
    "- Veille technologique et proposition d'outils pour améliorer l'application\n",
    "- Réalisation de tests\n",
    "- Mise en place de bonnes pratiques\n",
    "- Encadrement de profils juniors\n",
    "Environnement de développement : Typescript - JavaScript - Angular 9 - React.JS - API REST\n",
    "Pourquoi rejoindre cette entreprise :\n",
    "- Sujets liés à la data combinés à du développement web\n",
    "- Refonte totale d'une plateforme à venir\n",
    "- Formation prise en charge par l'entreprise pour vous faire monter en compétence sur React.JS\n",
    "- TR, RTT et 3 jours de télétravail par semaine\n",
    "\n",
    "Profil recherché:\n",
    "\n",
    "- Vous êtes idéalement diplômé d'un Bac +5 dans l'informatique\n",
    "- Vous avez à minima 5 ans d'expérience en développement JavaScript avec Angular2+ et/ou React.JS, Vue.JS\n",
    "- Vous êtes prêt à monter en compétence sur React.JS\n",
    "- Vous avez à cœur de réaliser un code de qualité\n",
    "- Anglais : Un bon niveau est un plus \"\"\")"
   ]
  },
  {
   "cell_type": "code",
   "execution_count": 9,
   "id": "f303cb0f",
   "metadata": {},
   "outputs": [
    {
     "name": "stdout",
     "output_type": "stream",
     "text": [
      "Au sein d'une équipe Tech composée de 2 développeurs frontend, votre objectif sera de participer à la refonte et l'évolution d'une application de restitution de données en méthodologie Agile.- Conception et développement de nouvelles fonctionnalités de A à Z (fonctionnalités de dataviz, données cartographiques.- Vous avez à minima 5 ans d'expérience en développement JavaScript avec Angular2+ et/ou React.- Sujets liés à la data combinés à du développement web- TR, RTT et 3 jours de télétravail par semaine  Profil recherché;- Vous êtes prêt à monter en compétence sur React.- Veille technologique et proposition d'outils pour améliorer l'application- Vous êtes idéalement diplômé d'un Bac +5 dans l'informatique- Vous avez à cœur de réaliser un code de qualité\n"
     ]
    }
   ],
   "source": [
    "print(\"\"\"Au sein d'une équipe Tech composée de 2 développeurs frontend, votre objectif sera de participer à la refonte et l'évolution d'une application de restitution de données en méthodologie Agile.- Conception et développement de nouvelles fonctionnalités de A à Z (fonctionnalités de dataviz, données cartographiques.- Vous avez à minima 5 ans d'expérience en développement JavaScript avec Angular2+ et/ou React.- Sujets liés à la data combinés à du développement web- TR, RTT et 3 jours de télétravail par semaine  Profil recherché;- Vous êtes prêt à monter en compétence sur React.- Veille technologique et proposition d'outils pour améliorer l'application- Vous êtes idéalement diplômé d'un Bac +5 dans l'informatique- Vous avez à cœur de réaliser un code de qualité\"\"\")"
   ]
  },
  {
   "cell_type": "code",
   "execution_count": null,
   "id": "6c65d2f1",
   "metadata": {},
   "outputs": [],
   "source": []
  }
 ],
 "metadata": {
  "kernelspec": {
   "display_name": "Python 3 (ipykernel)",
   "language": "python",
   "name": "python3"
  },
  "language_info": {
   "codemirror_mode": {
    "name": "ipython",
    "version": 3
   },
   "file_extension": ".py",
   "mimetype": "text/x-python",
   "name": "python",
   "nbconvert_exporter": "python",
   "pygments_lexer": "ipython3",
   "version": "3.8.10"
  }
 },
 "nbformat": 4,
 "nbformat_minor": 5
}
